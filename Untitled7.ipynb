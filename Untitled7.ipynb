{
 "cells": [
  {
   "cell_type": "code",
   "execution_count": 1,
   "id": "ca602920",
   "metadata": {},
   "outputs": [
    {
     "name": "stdout",
     "output_type": "stream",
     "text": [
      "the number whose table you want8\n",
      "8 x 1 = 8\n",
      "8 x 2 = 16\n",
      "8 x 3 = 24\n",
      "8 x 4 = 32\n",
      "8 x 5 = 40\n",
      "8 x 6 = 48\n",
      "8 x 7 = 56\n",
      "8 x 8 = 64\n",
      "8 x 9 = 72\n",
      "8 x 10 = 80\n"
     ]
    }
   ],
   "source": [
    "def print_table(num):\n",
    "    for i in range(1,11):\n",
    "        print(num,'x',i,'=',num*i)\n",
    "n=int(input(\"the number whose table you want\"))\n",
    "print_table(n)"
   ]
  },
  {
   "cell_type": "code",
   "execution_count": 2,
   "id": "6b1c1f13",
   "metadata": {},
   "outputs": [
    {
     "name": "stdout",
     "output_type": "stream",
     "text": [
      "the number whose table you want60\n",
      "60 x 1 = 60\n",
      "60 x 2 = 120\n",
      "60 x 3 = 180\n",
      "60 x 4 = 240\n",
      "60 x 5 = 300\n",
      "60 x 6 = 360\n",
      "60 x 7 = 420\n",
      "60 x 8 = 480\n",
      "60 x 9 = 540\n",
      "60 x 10 = 600\n"
     ]
    }
   ],
   "source": [
    "def print_table(num):\n",
    "    for i in range(1,11):\n",
    "        print(num,'x',i,'=',num*i)\n",
    "n=int(input(\"the number whose table you want\"))\n",
    "print_table(n)"
   ]
  },
  {
   "cell_type": "code",
   "execution_count": 3,
   "id": "6cd9fa6c",
   "metadata": {},
   "outputs": [
    {
     "name": "stdout",
     "output_type": "stream",
     "text": [
      "the number whose table you want9999\n",
      "9999 x 1 = 9999\n",
      "9999 x 2 = 19998\n",
      "9999 x 3 = 29997\n",
      "9999 x 4 = 39996\n",
      "9999 x 5 = 49995\n",
      "9999 x 6 = 59994\n",
      "9999 x 7 = 69993\n",
      "9999 x 8 = 79992\n",
      "9999 x 9 = 89991\n",
      "9999 x 10 = 99990\n"
     ]
    }
   ],
   "source": [
    "def print_table(num):\n",
    "    for i in range(1,11):\n",
    "        print(num,'x',i,'=',num*i)\n",
    "n=int(input(\"the number whose table you want\"))\n",
    "print_table(n)"
   ]
  },
  {
   "cell_type": "code",
   "execution_count": null,
   "id": "1ea69654",
   "metadata": {},
   "outputs": [],
   "source": []
  }
 ],
 "metadata": {
  "kernelspec": {
   "display_name": "Python 3 (ipykernel)",
   "language": "python",
   "name": "python3"
  },
  "language_info": {
   "codemirror_mode": {
    "name": "ipython",
    "version": 3
   },
   "file_extension": ".py",
   "mimetype": "text/x-python",
   "name": "python",
   "nbconvert_exporter": "python",
   "pygments_lexer": "ipython3",
   "version": "3.9.7"
  }
 },
 "nbformat": 4,
 "nbformat_minor": 5
}
